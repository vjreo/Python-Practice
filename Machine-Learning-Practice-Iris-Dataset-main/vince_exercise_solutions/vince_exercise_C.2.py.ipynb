{
 "cells": [
  {
   "cell_type": "code",
   "execution_count": null,
   "id": "abe774f4",
   "metadata": {},
   "outputs": [],
   "source": [
    "import pandas as pd\n",
    "iris = pd.read_csv(\"iris.csv\")\n",
    "#Drop id column\n",
    "iris = iris.drop('Id',axis=1)\n",
    "X = iris.iloc[:, :-1].values\n",
    "y = iris.iloc[:, 4].values\n",
    "print(\"Attributes:\")\n",
    "print(X)\n",
    "print(\"\\nLabels:\")\n",
    "print(y)"
   ]
  }
 ],
 "metadata": {
  "kernelspec": {
   "display_name": "Python 3 (ipykernel)",
   "language": "python",
   "name": "python3"
  },
  "language_info": {
   "codemirror_mode": {
    "name": "ipython",
    "version": 3
   },
   "file_extension": ".py",
   "mimetype": "text/x-python",
   "name": "python",
   "nbconvert_exporter": "python",
   "pygments_lexer": "ipython3",
   "version": "3.8.8"
  }
 },
 "nbformat": 4,
 "nbformat_minor": 5
}
